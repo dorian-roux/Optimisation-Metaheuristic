{
 "cells": [
  {
   "attachments": {},
   "cell_type": "markdown",
   "metadata": {},
   "source": [
    "<h3 style='text-align:center'>Optimisation Metaheuristiques - Data Generation + Offloading + Pareto</h3>"
   ]
  },
  {
   "cell_type": "markdown",
   "metadata": {},
   "source": [
    "---"
   ]
  },
  {
   "attachments": {},
   "cell_type": "markdown",
   "metadata": {},
   "source": [
    "#### LIBRARIES"
   ]
  },
  {
   "cell_type": "code",
   "execution_count": 1,
   "metadata": {},
   "outputs": [],
   "source": [
    "import os\n",
    "import json\n",
    "import math\n",
    "import numpy as np\n",
    "import pandas as pd\n",
    "import random\n",
    "\n",
    "import matplotlib.pyplot as plt\n",
    "from utils.prepare_offloading import *\n",
    "from utils.display_results import getParetoRank"
   ]
  },
  {
   "attachments": {},
   "cell_type": "markdown",
   "metadata": {},
   "source": [
    "#### FUNCTIONS"
   ]
  },
  {
   "attachments": {},
   "cell_type": "markdown",
   "metadata": {},
   "source": [
    "#### **Generation Offloading** - Version 1"
   ]
  },
  {
   "cell_type": "code",
   "execution_count": null,
   "metadata": {},
   "outputs": [],
   "source": [
    "n_IoTs = 20\n",
    "FOG_nNodes = 5\n",
    "CLOUD_nNodes = 2\n",
    "IoT_rDist=((0,50), (0,50))\n",
    "FOG_rDist = ((0,50), (0,50))\n",
    "CLOUD_rDist = ((100, 500), (100, 500))\n",
    "FOG_rVMS = (2, 6)\n",
    "CLOUD_rVMS = (1,3)\n",
    "baseVMS, taskVM, taskVM_Dummy, taskVM_Transp = prepareOffloading_V1(n_IoTs, FOG_nNodes, CLOUD_nNodes, IoT_rDist, FOG_rDist, CLOUD_rDist, FOG_rVMS, CLOUD_rVMS)"
   ]
  },
  {
   "cell_type": "code",
   "execution_count": null,
   "metadata": {},
   "outputs": [],
   "source": []
  },
  {
   "cell_type": "code",
   "execution_count": null,
   "metadata": {},
   "outputs": [],
   "source": [
    "taskVM_TRANSPOSE = getParetoRank(taskVM_Transp)\n",
    "\n",
    "fig, ax = plt.subplots(figsize=(15, 10))\n",
    "for i, row in taskVM_TRANSPOSE.iterrows():\n",
    "    ax.annotate(row['TASK'], (row['F1']+0.02, row['F2']), fontsize=10)\n",
    "    if row.RANK == 1:\n",
    "        ax.scatter(row['F1'], row['F2'], color='red')\n",
    "    else:\n",
    "        ax.scatter(row['F1'], row['F2'], color='blue')\n",
    "plt.xlabel('LATENCY')\n",
    "plt.ylabel('ENERGY CONSUMPTION')\n",
    "plt.show()"
   ]
  },
  {
   "attachments": {},
   "cell_type": "markdown",
   "metadata": {},
   "source": [
    "#### **Generation Offloading** - Version 2"
   ]
  },
  {
   "cell_type": "code",
   "execution_count": 2,
   "metadata": {},
   "outputs": [
    {
     "name": "stdout",
     "output_type": "stream",
     "text": [
      "Data are stored within the following Folder → Generation_16\n"
     ]
    }
   ],
   "source": [
    "n_IoTs = 20\n",
    "FOG_nNodes = 5\n",
    "CLOUD_nNodes = 3\n",
    "IoT_rDist=((0,50), (0,50))\n",
    "FOG_rDist = ((0,50), (0,50))\n",
    "CLOUD_rDist = ((100, 500), (100, 500))\n",
    "FOG_rVMS = (2, 6)\n",
    "CLOUD_rVMS = (2,3)\n",
    "baseVMS, taskVM, taskVM_Dummy, taskVM_Transp = prepareOffloading_V2(n_IoTs, FOG_nNodes, CLOUD_nNodes, IoT_rDist, FOG_rDist, CLOUD_rDist, FOG_rVMS, CLOUD_rVMS)"
   ]
  },
  {
   "cell_type": "code",
   "execution_count": null,
   "metadata": {},
   "outputs": [],
   "source": [
    "taskVM_TRANSPOSE = getParetoRank(taskVM_Transp)\n",
    "\n",
    "fig, ax = plt.subplots(figsize=(15, 10))\n",
    "for i, row in taskVM_TRANSPOSE.iterrows():\n",
    "    ax.annotate(row['TASK'], (row['F1']+0.02, row['F2']), fontsize=10)\n",
    "    if row.RANK == 1:\n",
    "        ax.scatter(row['F1'], row['F2'], color='red')\n",
    "    else:\n",
    "        ax.scatter(row['F1'], row['F2'], color='blue')\n",
    "plt.xlabel('LATENCY')\n",
    "plt.ylabel('ENERGY CONSUMPTION')\n",
    "plt.show()"
   ]
  },
  {
   "attachments": {},
   "cell_type": "markdown",
   "metadata": {},
   "source": [
    "#### **Generation Offloading** - Version 3"
   ]
  },
  {
   "cell_type": "code",
   "execution_count": null,
   "metadata": {},
   "outputs": [],
   "source": [
    "n_IoTs = 20\n",
    "FOG_nNodes = 5\n",
    "CLOUD_nNodes = 2\n",
    "IoT_rDist=((0,50), (0,50))\n",
    "FOG_rDist = ((0,50), (0,50))\n",
    "CLOUD_rDist = ((100, 500), (100, 500))\n",
    "FOG_rVMS = (2, 6)\n",
    "CLOUD_rVMS = (1,3)\n",
    "baseVMS, taskVM, taskVM_Dummy, taskVM_Transp = prepareOffloading_V3(n_IoTs, FOG_nNodes, CLOUD_nNodes, IoT_rDist, FOG_rDist, CLOUD_rDist, FOG_rVMS, CLOUD_rVMS)"
   ]
  },
  {
   "cell_type": "code",
   "execution_count": null,
   "metadata": {},
   "outputs": [],
   "source": [
    "taskVM_TRANSPOSE = getParetoRank(taskVM_Transp)\n",
    "\n",
    "fig, ax = plt.subplots(figsize=(15, 10))\n",
    "for i, row in taskVM_TRANSPOSE.iterrows():\n",
    "    ax.annotate(row['TASK'], (row['F1']+0.02, row['F2']), fontsize=10)\n",
    "    if row.RANK == 1:\n",
    "        ax.scatter(row['F1'], row['F2'], color='red')\n",
    "    else:\n",
    "        ax.scatter(row['F1'], row['F2'], color='blue')\n",
    "plt.xlabel('LATENCY')\n",
    "plt.ylabel('ENERGY CONSUMPTION')\n",
    "plt.show()"
   ]
  },
  {
   "attachments": {},
   "cell_type": "markdown",
   "metadata": {},
   "source": [
    "#### **Generation Offloading - with Parents**"
   ]
  },
  {
   "cell_type": "code",
   "execution_count": 28,
   "metadata": {},
   "outputs": [],
   "source": [
    "def getTotal_fromParentsSolutions(solutions):\n",
    "    dfSols = pd.DataFrame()\n",
    "    for i, sol in enumerate(solutions):\n",
    "        sumLATENCY = sum(sol.iloc[1].reset_index(drop=True).tolist())\n",
    "        sumEC = sum(sol.iloc[2].reset_index(drop=True).tolist())\n",
    "        dfSols = pd.concat([dfSols, pd.DataFrame({f'Parent_{i}': [sumLATENCY, sumEC]})], axis=1)    \n",
    "    return dfSols"
   ]
  },
  {
   "cell_type": "code",
   "execution_count": 29,
   "metadata": {},
   "outputs": [
    {
     "name": "stdout",
     "output_type": "stream",
     "text": [
      "Data are stored within the following Folder → Generation_27\n",
      "Data are stored within the following Folder → Generation_28\n",
      "Data are stored within the following Folder → Generation_29\n",
      "Data are stored within the following Folder → Generation_30\n",
      "Data are stored within the following Folder → Generation_31\n",
      "Data are stored within the following Folder → Generation_32\n",
      "Data are stored within the following Folder → Generation_33\n",
      "Data are stored within the following Folder → Generation_34\n",
      "Data are stored within the following Folder → Generation_35\n",
      "Data are stored within the following Folder → Generation_36\n"
     ]
    },
    {
     "data": {
      "text/html": [
       "<div>\n",
       "<style scoped>\n",
       "    .dataframe tbody tr th:only-of-type {\n",
       "        vertical-align: middle;\n",
       "    }\n",
       "\n",
       "    .dataframe tbody tr th {\n",
       "        vertical-align: top;\n",
       "    }\n",
       "\n",
       "    .dataframe thead th {\n",
       "        text-align: right;\n",
       "    }\n",
       "</style>\n",
       "<table border=\"1\" class=\"dataframe\">\n",
       "  <thead>\n",
       "    <tr style=\"text-align: right;\">\n",
       "      <th></th>\n",
       "      <th>Parent_0</th>\n",
       "      <th>Parent_1</th>\n",
       "      <th>Parent_2</th>\n",
       "      <th>Parent_3</th>\n",
       "      <th>Parent_4</th>\n",
       "      <th>Parent_5</th>\n",
       "      <th>Parent_6</th>\n",
       "      <th>Parent_7</th>\n",
       "      <th>Parent_8</th>\n",
       "      <th>Parent_9</th>\n",
       "    </tr>\n",
       "  </thead>\n",
       "  <tbody>\n",
       "    <tr>\n",
       "      <th>0</th>\n",
       "      <td>29.636702</td>\n",
       "      <td>33.315312</td>\n",
       "      <td>28.757482</td>\n",
       "      <td>20.780078</td>\n",
       "      <td>53.249580</td>\n",
       "      <td>22.803893</td>\n",
       "      <td>30.559173</td>\n",
       "      <td>48.95358</td>\n",
       "      <td>38.027432</td>\n",
       "      <td>24.131796</td>\n",
       "    </tr>\n",
       "    <tr>\n",
       "      <th>1</th>\n",
       "      <td>104915.113813</td>\n",
       "      <td>78796.293480</td>\n",
       "      <td>91519.072093</td>\n",
       "      <td>98083.007225</td>\n",
       "      <td>156779.611467</td>\n",
       "      <td>121955.774110</td>\n",
       "      <td>135432.717318</td>\n",
       "      <td>191199.51864</td>\n",
       "      <td>98832.137120</td>\n",
       "      <td>129431.731707</td>\n",
       "    </tr>\n",
       "  </tbody>\n",
       "</table>\n",
       "</div>"
      ],
      "text/plain": [
       "        Parent_0      Parent_1      Parent_2      Parent_3       Parent_4  \\\n",
       "0      29.636702     33.315312     28.757482     20.780078      53.249580   \n",
       "1  104915.113813  78796.293480  91519.072093  98083.007225  156779.611467   \n",
       "\n",
       "        Parent_5       Parent_6      Parent_7      Parent_8       Parent_9  \n",
       "0      22.803893      30.559173      48.95358     38.027432      24.131796  \n",
       "1  121955.774110  135432.717318  191199.51864  98832.137120  129431.731707  "
      ]
     },
     "execution_count": 29,
     "metadata": {},
     "output_type": "execute_result"
    }
   ],
   "source": [
    "ls_Solutions = []\n",
    "nSol = 10\n",
    "for _ in range(nSol):\n",
    "    n_IoTs = 20\n",
    "    FOG_nNodes = 5\n",
    "    CLOUD_nNodes = 3\n",
    "    IoT_rDist=((0,50), (0,50))\n",
    "    FOG_rDist = ((0,50), (0,50))\n",
    "    CLOUD_rDist = ((100, 500), (100, 500))\n",
    "    FOG_rVMS = (2, 6)\n",
    "    CLOUD_rVMS = (2,3)\n",
    "    baseVMS, taskVM, taskVM_Dummy, taskVM_Transp = prepareOffloading_V2(n_IoTs, FOG_nNodes, CLOUD_nNodes, IoT_rDist, FOG_rDist, CLOUD_rDist, FOG_rVMS, CLOUD_rVMS)   \n",
    "    ls_Solutions.append(taskVM)\n",
    "\n",
    "\n",
    "getTotal_fromParentsSolutions(ls_Solutions)"
   ]
  }
 ],
 "metadata": {
  "kernelspec": {
   "display_name": "dl_py38",
   "language": "python",
   "name": "python3"
  },
  "language_info": {
   "codemirror_mode": {
    "name": "ipython",
    "version": 3
   },
   "file_extension": ".py",
   "mimetype": "text/x-python",
   "name": "python",
   "nbconvert_exporter": "python",
   "pygments_lexer": "ipython3",
   "version": "3.8.13"
  },
  "orig_nbformat": 4
 },
 "nbformat": 4,
 "nbformat_minor": 2
}
