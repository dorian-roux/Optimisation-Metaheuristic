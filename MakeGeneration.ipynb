{
 "cells": [
  {
   "attachments": {},
   "cell_type": "markdown",
   "metadata": {},
   "source": [
    "<h3 style='text-align:center'>Optimisation Metaheuristiques - Data Generation + Offloading + Pareto</h3>"
   ]
  },
  {
   "cell_type": "markdown",
   "metadata": {},
   "source": [
    "---"
   ]
  },
  {
   "attachments": {},
   "cell_type": "markdown",
   "metadata": {},
   "source": [
    "#### LIBRARIES"
   ]
  },
  {
   "cell_type": "code",
   "execution_count": 1,
   "metadata": {},
   "outputs": [],
   "source": [
    "import os\n",
    "import json\n",
    "import math\n",
    "import numpy as np\n",
    "import pandas as pd\n",
    "import random\n",
    "\n",
    "import matplotlib.pyplot as plt\n",
    "from utils.prepare_offloading import *\n",
    "from utils.display_results import getParetoRank"
   ]
  },
  {
   "attachments": {},
   "cell_type": "markdown",
   "metadata": {},
   "source": [
    "#### FUNCTIONS"
   ]
  },
  {
   "attachments": {},
   "cell_type": "markdown",
   "metadata": {},
   "source": [
    "#### **Generation Offloading** - Version 1"
   ]
  },
  {
   "cell_type": "code",
   "execution_count": null,
   "metadata": {},
   "outputs": [],
   "source": [
    "n_IoTs = 20\n",
    "FOG_nNodes = 5\n",
    "CLOUD_nNodes = 2\n",
    "IoT_rDist=((0,50), (0,50))\n",
    "FOG_rDist = ((0,50), (0,50))\n",
    "CLOUD_rDist = ((100, 500), (100, 500))\n",
    "FOG_rVMS = (2, 6)\n",
    "CLOUD_rVMS = (1,3)\n",
    "baseVMS, taskVM, taskVM_Dummy, taskVM_Transp = prepareOffloading_V1(n_IoTs, FOG_nNodes, CLOUD_nNodes, IoT_rDist, FOG_rDist, CLOUD_rDist, FOG_rVMS, CLOUD_rVMS)"
   ]
  },
  {
   "cell_type": "code",
   "execution_count": null,
   "metadata": {},
   "outputs": [],
   "source": []
  },
  {
   "cell_type": "code",
   "execution_count": null,
   "metadata": {},
   "outputs": [],
   "source": [
    "taskVM_TRANSPOSE = getParetoRank(taskVM_Transp)\n",
    "\n",
    "fig, ax = plt.subplots(figsize=(15, 10))\n",
    "for i, row in taskVM_TRANSPOSE.iterrows():\n",
    "    ax.annotate(row['TASK'], (row['F1']+0.02, row['F2']), fontsize=10)\n",
    "    if row.RANK == 1:\n",
    "        ax.scatter(row['F1'], row['F2'], color='red')\n",
    "    else:\n",
    "        ax.scatter(row['F1'], row['F2'], color='blue')\n",
    "plt.xlabel('LATENCY')\n",
    "plt.ylabel('ENERGY CONSUMPTION')\n",
    "plt.show()"
   ]
  },
  {
   "attachments": {},
   "cell_type": "markdown",
   "metadata": {},
   "source": [
    "#### **Generation Offloading** - Version 2"
   ]
  },
  {
   "cell_type": "code",
   "execution_count": 2,
   "metadata": {},
   "outputs": [
    {
     "name": "stdout",
     "output_type": "stream",
     "text": [
      "Data are stored within the following Folder → Generation_16\n"
     ]
    }
   ],
   "source": [
    "n_IoTs = 20\n",
    "FOG_nNodes = 5\n",
    "CLOUD_nNodes = 3\n",
    "IoT_rDist=((0,50), (0,50))\n",
    "FOG_rDist = ((0,50), (0,50))\n",
    "CLOUD_rDist = ((100, 500), (100, 500))\n",
    "FOG_rVMS = (2, 6)\n",
    "CLOUD_rVMS = (2,3)\n",
    "baseVMS, taskVM, taskVM_Dummy, taskVM_Transp = prepareOffloading_V2(n_IoTs, FOG_nNodes, CLOUD_nNodes, IoT_rDist, FOG_rDist, CLOUD_rDist, FOG_rVMS, CLOUD_rVMS)"
   ]
  },
  {
   "cell_type": "code",
   "execution_count": null,
   "metadata": {},
   "outputs": [],
   "source": [
    "taskVM_TRANSPOSE = getParetoRank(taskVM_Transp)\n",
    "\n",
    "fig, ax = plt.subplots(figsize=(15, 10))\n",
    "for i, row in taskVM_TRANSPOSE.iterrows():\n",
    "    ax.annotate(row['TASK'], (row['F1']+0.02, row['F2']), fontsize=10)\n",
    "    if row.RANK == 1:\n",
    "        ax.scatter(row['F1'], row['F2'], color='red')\n",
    "    else:\n",
    "        ax.scatter(row['F1'], row['F2'], color='blue')\n",
    "plt.xlabel('LATENCY')\n",
    "plt.ylabel('ENERGY CONSUMPTION')\n",
    "plt.show()"
   ]
  },
  {
   "attachments": {},
   "cell_type": "markdown",
   "metadata": {},
   "source": [
    "#### **Generation Offloading** - Version 3"
   ]
  },
  {
   "cell_type": "code",
   "execution_count": null,
   "metadata": {},
   "outputs": [],
   "source": [
    "n_IoTs = 20\n",
    "FOG_nNodes = 5\n",
    "CLOUD_nNodes = 2\n",
    "IoT_rDist=((0,50), (0,50))\n",
    "FOG_rDist = ((0,50), (0,50))\n",
    "CLOUD_rDist = ((100, 500), (100, 500))\n",
    "FOG_rVMS = (2, 6)\n",
    "CLOUD_rVMS = (1,3)\n",
    "baseVMS, taskVM, taskVM_Dummy, taskVM_Transp = prepareOffloading_V3(n_IoTs, FOG_nNodes, CLOUD_nNodes, IoT_rDist, FOG_rDist, CLOUD_rDist, FOG_rVMS, CLOUD_rVMS)"
   ]
  },
  {
   "cell_type": "code",
   "execution_count": null,
   "metadata": {},
   "outputs": [],
   "source": [
    "taskVM_TRANSPOSE = getParetoRank(taskVM_Transp)\n",
    "\n",
    "fig, ax = plt.subplots(figsize=(15, 10))\n",
    "for i, row in taskVM_TRANSPOSE.iterrows():\n",
    "    ax.annotate(row['TASK'], (row['F1']+0.02, row['F2']), fontsize=10)\n",
    "    if row.RANK == 1:\n",
    "        ax.scatter(row['F1'], row['F2'], color='red')\n",
    "    else:\n",
    "        ax.scatter(row['F1'], row['F2'], color='blue')\n",
    "plt.xlabel('LATENCY')\n",
    "plt.ylabel('ENERGY CONSUMPTION')\n",
    "plt.show()"
   ]
  },
  {
   "attachments": {},
   "cell_type": "markdown",
   "metadata": {},
   "source": [
    "#### **Generation Offloading - with Parents**"
   ]
  },
  {
   "cell_type": "code",
   "execution_count": 2,
   "metadata": {},
   "outputs": [],
   "source": [
    "def getTotal_fromParentsSolutions(solutions):\n",
    "    dfSols = pd.DataFrame()\n",
    "    for i, sol in enumerate(solutions):\n",
    "        sumLATENCY = sum(sol.iloc[1].reset_index(drop=True).tolist())\n",
    "        sumEC = sum(sol.iloc[2].reset_index(drop=True).tolist())\n",
    "        dfSols = pd.concat([dfSols, pd.DataFrame({f'Population_{i}': [i, sumLATENCY, sumEC]})], axis=1)    \n",
    "    return dfSols"
   ]
  },
  {
   "cell_type": "code",
   "execution_count": 3,
   "metadata": {},
   "outputs": [],
   "source": [
    "def getPopulations(nPop=10):\n",
    "    n_IoTs = 20\n",
    "    FOG_nNodes = 5\n",
    "    CLOUD_nNodes = 3\n",
    "    IoT_rDist=((0,50), (0,50))\n",
    "    FOG_rDist = ((0,50), (0,50))\n",
    "    CLOUD_rDist = ((100, 500), (100, 500))\n",
    "    FOG_rVMS = (2, 6)\n",
    "    CLOUD_rVMS = (2,3)\n",
    "    \n",
    "    ls_Solutions = []\n",
    "    ls_Solutions_Dummy = []\n",
    "    for _ in range(nPop):\n",
    "        _, taskVM, taskVM_Dummy, _ = prepareOffloading_V2(n_IoTs, FOG_nNodes, CLOUD_nNodes, IoT_rDist, FOG_rDist, CLOUD_rDist, FOG_rVMS, CLOUD_rVMS, False)   \n",
    "        \n",
    "        # We do not take into account the locally executed tasks\n",
    "        taskVM_Dummy = taskVM_Dummy.loc[:, ~(taskVM_Dummy == -1).any()]\n",
    "        taskVM = taskVM[list(taskVM_Dummy)]\n",
    "        \n",
    "        ls_Solutions.append(taskVM)\n",
    "        ls_Solutions_Dummy.append(taskVM_Dummy)\n",
    "    \n",
    "    return ls_Solutions, ls_Solutions_Dummy, getTotal_fromParentsSolutions(ls_Solutions)"
   ]
  },
  {
   "cell_type": "code",
   "execution_count": 6,
   "metadata": {},
   "outputs": [],
   "source": [
    "sol, sol_dum, sol_total = getPopulations(10)"
   ]
  }
 ],
 "metadata": {
  "kernelspec": {
   "display_name": "dl_py38",
   "language": "python",
   "name": "python3"
  },
  "language_info": {
   "codemirror_mode": {
    "name": "ipython",
    "version": 3
   },
   "file_extension": ".py",
   "mimetype": "text/x-python",
   "name": "python",
   "nbconvert_exporter": "python",
   "pygments_lexer": "ipython3",
   "version": "3.8.13"
  },
  "orig_nbformat": 4
 },
 "nbformat": 4,
 "nbformat_minor": 2
}
